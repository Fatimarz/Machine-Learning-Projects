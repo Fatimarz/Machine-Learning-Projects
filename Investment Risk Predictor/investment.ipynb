{
 "cells": [
  {
   "cell_type": "code",
   "execution_count": 1,
   "id": "0714dc4a-c52c-4a37-908f-bb8c9ff92cd4",
   "metadata": {},
   "outputs": [],
   "source": [
    "#importing libraries\n",
    "import pandas as pd\n",
    "import numpy as np\n",
    "import matplotlib.pyplot as plt"
   ]
  },
  {
   "cell_type": "code",
   "execution_count": 2,
   "id": "042ad355-7455-4e29-bb35-11800be0d9e5",
   "metadata": {},
   "outputs": [],
   "source": [
    "#reading data\n",
    "data=pd.read_csv('investment.csv')"
   ]
  },
  {
   "cell_type": "code",
   "execution_count": 3,
   "id": "d47b47d6-bed0-4847-800e-3302b652a824",
   "metadata": {},
   "outputs": [
    {
     "data": {
      "text/plain": [
       "(225347, 18)"
      ]
     },
     "execution_count": 3,
     "metadata": {},
     "output_type": "execute_result"
    }
   ],
   "source": [
    "#checking rows and column\n",
    "data.shape"
   ]
  },
  {
   "cell_type": "code",
   "execution_count": 6,
   "id": "755f5c95-6c49-40c1-853f-961c47d36c15",
   "metadata": {},
   "outputs": [
    {
     "data": {
      "text/plain": [
       "Index(['Investor_ID', 'Age', 'Annual_Income', 'Investment_Amount',\n",
       "       'Risk_Tolerance_Score', 'Months_of_Investing_Experience',\n",
       "       'Number_of_Active_Investments', 'Potential_Return_Rate',\n",
       "       'Investment_Duration', 'Investment_to_Income_Ratio', 'Education',\n",
       "       'Employment_Status', 'Marital_Status', 'Owns_Property',\n",
       "       'Has_Dependents', 'Investment_Sector', 'Has_Investment_Advisor',\n",
       "       'Investment_Failed'],\n",
       "      dtype='object')"
      ]
     },
     "execution_count": 6,
     "metadata": {},
     "output_type": "execute_result"
    }
   ],
   "source": [
    "#checking columns\n",
    "data.columns"
   ]
  },
  {
   "cell_type": "code",
   "execution_count": 7,
   "id": "c68684cf-31f6-43f4-8f71-f05b7e2c347b",
   "metadata": {},
   "outputs": [
    {
     "data": {
      "text/plain": [
       "Investor_ID                           0\n",
       "Age                               32840\n",
       "Annual_Income                     22626\n",
       "Investment_Amount                 18033\n",
       "Risk_Tolerance_Score                  0\n",
       "Months_of_Investing_Experience        0\n",
       "Number_of_Active_Investments       4512\n",
       "Potential_Return_Rate             11244\n",
       "Investment_Duration                   0\n",
       "Investment_to_Income_Ratio            0\n",
       "Education                             0\n",
       "Employment_Status                     0\n",
       "Marital_Status                    42906\n",
       "Owns_Property                         0\n",
       "Has_Dependents                        0\n",
       "Investment_Sector                     0\n",
       "Has_Investment_Advisor             3849\n",
       "Investment_Failed                     0\n",
       "dtype: int64"
      ]
     },
     "execution_count": 7,
     "metadata": {},
     "output_type": "execute_result"
    }
   ],
   "source": [
    "#checking null values\n",
    "data.isna().sum()"
   ]
  },
  {
   "cell_type": "code",
   "execution_count": 8,
   "id": "49ad1ef2-018f-41c8-a4cf-787dbf4f7c1f",
   "metadata": {},
   "outputs": [],
   "source": [
    "#imputing null values with mean\n",
    "data['Age']=data['Age'].fillna(data['Age'].mean())\n",
    "data['Annual_Income']=data['Annual_Income'].fillna(data['Annual_Income'].mean())\n",
    "data['Investment_Amount']=data['Investment_Amount'].fillna(data['Investment_Amount'].mean())\n",
    "data['Number_of_Active_Investments']=data['Number_of_Active_Investments'].fillna(data['Number_of_Active_Investments'].mean())\n",
    "data['Potential_Return_Rate']=data['Potential_Return_Rate'].fillna(data['Potential_Return_Rate'].mean())\n",
    "data['Has_Investment_Advisor']=data['Has_Investment_Advisor'].fillna(data['Has_Investment_Advisor'].mean())"
   ]
  },
  {
   "cell_type": "code",
   "execution_count": 9,
   "id": "ea57f19f-a8ed-488e-abe2-d55bf2457b29",
   "metadata": {},
   "outputs": [
    {
     "data": {
      "text/html": [
       "<div>\n",
       "<style scoped>\n",
       "    .dataframe tbody tr th:only-of-type {\n",
       "        vertical-align: middle;\n",
       "    }\n",
       "\n",
       "    .dataframe tbody tr th {\n",
       "        vertical-align: top;\n",
       "    }\n",
       "\n",
       "    .dataframe thead th {\n",
       "        text-align: right;\n",
       "    }\n",
       "</style>\n",
       "<table border=\"1\" class=\"dataframe\">\n",
       "  <thead>\n",
       "    <tr style=\"text-align: right;\">\n",
       "      <th></th>\n",
       "      <th>Age</th>\n",
       "      <th>Annual_Income</th>\n",
       "      <th>Investment_Amount</th>\n",
       "      <th>Risk_Tolerance_Score</th>\n",
       "      <th>Months_of_Investing_Experience</th>\n",
       "      <th>Number_of_Active_Investments</th>\n",
       "      <th>Potential_Return_Rate</th>\n",
       "      <th>Investment_Duration</th>\n",
       "      <th>Investment_to_Income_Ratio</th>\n",
       "      <th>Investment_Failed</th>\n",
       "    </tr>\n",
       "  </thead>\n",
       "  <tbody>\n",
       "    <tr>\n",
       "      <th>count</th>\n",
       "      <td>225347.000000</td>\n",
       "      <td>225347.000000</td>\n",
       "      <td>225347.000000</td>\n",
       "      <td>225347.000000</td>\n",
       "      <td>225347.000000</td>\n",
       "      <td>225347.000000</td>\n",
       "      <td>225347.000000</td>\n",
       "      <td>225347.000000</td>\n",
       "      <td>225347.000000</td>\n",
       "      <td>225347.000000</td>\n",
       "    </tr>\n",
       "    <tr>\n",
       "      <th>mean</th>\n",
       "      <td>46.026004</td>\n",
       "      <td>82793.709196</td>\n",
       "      <td>126997.235204</td>\n",
       "      <td>598.569708</td>\n",
       "      <td>59.832942</td>\n",
       "      <td>2.498413</td>\n",
       "      <td>13.417184</td>\n",
       "      <td>36.028756</td>\n",
       "      <td>0.499736</td>\n",
       "      <td>0.087212</td>\n",
       "    </tr>\n",
       "    <tr>\n",
       "      <th>std</th>\n",
       "      <td>17.622593</td>\n",
       "      <td>36854.422425</td>\n",
       "      <td>67876.331600</td>\n",
       "      <td>186.348988</td>\n",
       "      <td>34.617474</td>\n",
       "      <td>1.105492</td>\n",
       "      <td>6.461485</td>\n",
       "      <td>16.968128</td>\n",
       "      <td>0.230821</td>\n",
       "      <td>0.282146</td>\n",
       "    </tr>\n",
       "    <tr>\n",
       "      <th>min</th>\n",
       "      <td>18.000000</td>\n",
       "      <td>15000.000000</td>\n",
       "      <td>5000.000000</td>\n",
       "      <td>300.000000</td>\n",
       "      <td>0.000000</td>\n",
       "      <td>1.000000</td>\n",
       "      <td>2.000000</td>\n",
       "      <td>12.000000</td>\n",
       "      <td>0.100000</td>\n",
       "      <td>0.000000</td>\n",
       "    </tr>\n",
       "    <tr>\n",
       "      <th>25%</th>\n",
       "      <td>34.000000</td>\n",
       "      <td>53035.500000</td>\n",
       "      <td>70919.500000</td>\n",
       "      <td>445.000000</td>\n",
       "      <td>30.000000</td>\n",
       "      <td>2.000000</td>\n",
       "      <td>7.990000</td>\n",
       "      <td>24.000000</td>\n",
       "      <td>0.300000</td>\n",
       "      <td>0.000000</td>\n",
       "    </tr>\n",
       "    <tr>\n",
       "      <th>50%</th>\n",
       "      <td>46.026004</td>\n",
       "      <td>82793.709196</td>\n",
       "      <td>126997.235204</td>\n",
       "      <td>589.000000</td>\n",
       "      <td>60.000000</td>\n",
       "      <td>2.498413</td>\n",
       "      <td>13.417184</td>\n",
       "      <td>36.000000</td>\n",
       "      <td>0.500000</td>\n",
       "      <td>0.000000</td>\n",
       "    </tr>\n",
       "    <tr>\n",
       "      <th>75%</th>\n",
       "      <td>56.000000</td>\n",
       "      <td>112701.000000</td>\n",
       "      <td>182757.000000</td>\n",
       "      <td>735.000000</td>\n",
       "      <td>90.000000</td>\n",
       "      <td>3.000000</td>\n",
       "      <td>18.850000</td>\n",
       "      <td>48.000000</td>\n",
       "      <td>0.700000</td>\n",
       "      <td>0.000000</td>\n",
       "    </tr>\n",
       "    <tr>\n",
       "      <th>max</th>\n",
       "      <td>119.000000</td>\n",
       "      <td>149999.000000</td>\n",
       "      <td>249999.000000</td>\n",
       "      <td>1099.000000</td>\n",
       "      <td>119.000000</td>\n",
       "      <td>4.000000</td>\n",
       "      <td>25.000000</td>\n",
       "      <td>60.000000</td>\n",
       "      <td>0.900000</td>\n",
       "      <td>1.000000</td>\n",
       "    </tr>\n",
       "  </tbody>\n",
       "</table>\n",
       "</div>"
      ],
      "text/plain": [
       "                 Age  Annual_Income  Investment_Amount  Risk_Tolerance_Score  \\\n",
       "count  225347.000000  225347.000000      225347.000000         225347.000000   \n",
       "mean       46.026004   82793.709196      126997.235204            598.569708   \n",
       "std        17.622593   36854.422425       67876.331600            186.348988   \n",
       "min        18.000000   15000.000000        5000.000000            300.000000   \n",
       "25%        34.000000   53035.500000       70919.500000            445.000000   \n",
       "50%        46.026004   82793.709196      126997.235204            589.000000   \n",
       "75%        56.000000  112701.000000      182757.000000            735.000000   \n",
       "max       119.000000  149999.000000      249999.000000           1099.000000   \n",
       "\n",
       "       Months_of_Investing_Experience  Number_of_Active_Investments  \\\n",
       "count                   225347.000000                 225347.000000   \n",
       "mean                        59.832942                      2.498413   \n",
       "std                         34.617474                      1.105492   \n",
       "min                          0.000000                      1.000000   \n",
       "25%                         30.000000                      2.000000   \n",
       "50%                         60.000000                      2.498413   \n",
       "75%                         90.000000                      3.000000   \n",
       "max                        119.000000                      4.000000   \n",
       "\n",
       "       Potential_Return_Rate  Investment_Duration  Investment_to_Income_Ratio  \\\n",
       "count          225347.000000        225347.000000               225347.000000   \n",
       "mean               13.417184            36.028756                    0.499736   \n",
       "std                 6.461485            16.968128                    0.230821   \n",
       "min                 2.000000            12.000000                    0.100000   \n",
       "25%                 7.990000            24.000000                    0.300000   \n",
       "50%                13.417184            36.000000                    0.500000   \n",
       "75%                18.850000            48.000000                    0.700000   \n",
       "max                25.000000            60.000000                    0.900000   \n",
       "\n",
       "       Investment_Failed  \n",
       "count      225347.000000  \n",
       "mean            0.087212  \n",
       "std             0.282146  \n",
       "min             0.000000  \n",
       "25%             0.000000  \n",
       "50%             0.000000  \n",
       "75%             0.000000  \n",
       "max             1.000000  "
      ]
     },
     "execution_count": 9,
     "metadata": {},
     "output_type": "execute_result"
    }
   ],
   "source": [
    "#statistical summary of data\n",
    "data.describe()"
   ]
  },
  {
   "cell_type": "code",
   "execution_count": 10,
   "id": "19c54c86-9f9d-4553-847b-87a48064468b",
   "metadata": {},
   "outputs": [
    {
     "data": {
      "text/plain": [
       "(array([ 73801., 104927.,  39898.,      0.,   6721.]),\n",
       " array([ 18. ,  38.2,  58.4,  78.6,  98.8, 119. ]),\n",
       " <BarContainer object of 5 artists>)"
      ]
     },
     "execution_count": 10,
     "metadata": {},
     "output_type": "execute_result"
    },
    {
     "data": {
      "image/png": "[encoded data removed]",
      "text/plain": [
       "<Figure size 640x480 with 1 Axes>"
      ]
     },
     "metadata": {},
     "output_type": "display_data"
    }
   ],
   "source": [
    "#removing outliers\n",
    "plt.hist(data['Age'], bins=5, edgecolor='black')"
   ]
  },
  {
   "cell_type": "code",
   "execution_count": 11,
   "id": "05172534-712c-4fc9-b60a-ee47236b9be4",
   "metadata": {},
   "outputs": [
    {
     "data": {
      "text/plain": [
       "1.1874585435558822"
      ]
     },
     "execution_count": 11,
     "metadata": {},
     "output_type": "execute_result"
    }
   ],
   "source": [
    "data['Age'].skew()"
   ]
  },
  {
   "cell_type": "code",
   "execution_count": 12,
   "id": "241585ad-d13e-443e-bbc3-8188bb5e809f",
   "metadata": {},
   "outputs": [],
   "source": [
    "#removing outliers from age\n",
    "q1=data['Age'].quantile(0.25)\n",
    "q3=data['Age'].quantile(0.75)\n",
    "iqr=q3-q1\n",
    "lower_bound=q1-1.5*iqr\n",
    "upper_bound=q3+1.5*iqr"
   ]
  },
  {
   "cell_type": "code",
   "execution_count": 13,
   "id": "4dad438c-53b7-47de-aa8f-38da45085570",
   "metadata": {},
   "outputs": [],
   "source": [
    "#making another copy of data\n",
    "data1=data.copy()"
   ]
  },
  {
   "cell_type": "code",
   "execution_count": 14,
   "id": "3e20c377-2b6d-46fb-b978-fb00fff58108",
   "metadata": {},
   "outputs": [],
   "source": [
    "data = data[(data['Age'] >= lower_bound) & (data['Age'] <= upper_bound)]"
   ]
  },
  {
   "cell_type": "code",
   "execution_count": 15,
   "id": "831d8901-dc43-4ec7-b185-fd6b157c099b",
   "metadata": {},
   "outputs": [],
   "source": [
    "#encoding categorical variables\n",
    "from sklearn.preprocessing import LabelEncoder\n",
    "l=LabelEncoder()\n",
    "data['Investor_ID']=l.fit_transform(data['Investor_ID'])\n",
    "data['Education']=l.fit_transform(data['Education'])\n",
    "data['Employment_Status']=l.fit_transform(data['Employment_Status'])\n",
    "data['Owns_Property']=l.fit_transform(data['Owns_Property'])\n",
    "data['Has_Dependents']=l.fit_transform(data['Has_Dependents'])\n",
    "data['Investment_Sector']=l.fit_transform(data['Investment_Sector'])\n",
    "data['Has_Investment_Advisor']=l.fit_transform(data['Has_Investment_Advisor'])"
   ]
  },
  {
   "cell_type": "code",
   "execution_count": 16,
   "id": "2cb1ff3f-b16f-44e7-8be0-e17c98e25e6f",
   "metadata": {},
   "outputs": [
    {
     "name": "stdout",
     "output_type": "stream",
     "text": [
      "<class 'pandas.core.frame.DataFrame'>\n",
      "Index: 218626 entries, 0 to 225346\n",
      "Data columns (total 18 columns):\n",
      " #   Column                          Non-Null Count   Dtype  \n",
      "---  ------                          --------------   -----  \n",
      " 0   Investor_ID                     218626 non-null  int32  \n",
      " 1   Age                             218626 non-null  float64\n",
      " 2   Annual_Income                   218626 non-null  float64\n",
      " 3   Investment_Amount               218626 non-null  float64\n",
      " 4   Risk_Tolerance_Score            218626 non-null  int64  \n",
      " 5   Months_of_Investing_Experience  218626 non-null  int64  \n",
      " 6   Number_of_Active_Investments    218626 non-null  float64\n",
      " 7   Potential_Return_Rate           218626 non-null  float64\n",
      " 8   Investment_Duration             218626 non-null  int64  \n",
      " 9   Investment_to_Income_Ratio      218626 non-null  float64\n",
      " 10  Education                       218626 non-null  int32  \n",
      " 11  Employment_Status               218626 non-null  int32  \n",
      " 12  Marital_Status                  177002 non-null  object \n",
      " 13  Owns_Property                   218626 non-null  int32  \n",
      " 14  Has_Dependents                  218626 non-null  int32  \n",
      " 15  Investment_Sector               218626 non-null  int32  \n",
      " 16  Has_Investment_Advisor          218626 non-null  int32  \n",
      " 17  Investment_Failed               218626 non-null  int64  \n",
      "dtypes: float64(6), int32(7), int64(4), object(1)\n",
      "memory usage: 25.9+ MB\n"
     ]
    }
   ],
   "source": [
    "#checking columns with data type\n",
    "data.info()"
   ]
  },
  {
   "cell_type": "code",
   "execution_count": 17,
   "id": "2331d6bf-ca64-4de6-a8b0-0c1fed32dda8",
   "metadata": {},
   "outputs": [],
   "source": [
    "x=data.drop(columns=['Investment_Failed','Marital_Status'], axis=1)\n",
    "y=data['Investment_Failed']"
   ]
  },
  {
   "cell_type": "code",
   "execution_count": 18,
   "id": "31b791d6-900c-4830-918c-90db964b49ec",
   "metadata": {},
   "outputs": [
    {
     "data": {
      "text/plain": [
       "Investment_Failed\n",
       "0    199535\n",
       "1     19091\n",
       "Name: count, dtype: int64"
      ]
     },
     "execution_count": 18,
     "metadata": {},
     "output_type": "execute_result"
    }
   ],
   "source": [
    "#imbalance class\n",
    "data['Investment_Failed'].value_counts()"
   ]
  },
  {
   "cell_type": "code",
   "execution_count": 20,
   "id": "98d6485b-13a7-4dd2-bb46-aa3e9aaf7ff1",
   "metadata": {},
   "outputs": [
    {
     "data": {
      "application/javascript": [
       "\n",
       "        if (window._pyforest_update_imports_cell) { window._pyforest_update_imports_cell('from sklearn.model_selection import train_test_split'); }\n",
       "    "
      ],
      "text/plain": [
       "<IPython.core.display.Javascript object>"
      ]
     },
     "metadata": {},
     "output_type": "display_data"
    }
   ],
   "source": [
    "x_train,x_test,y_train,y_test=train_test_split(x,y,test_size=0.2, random_state=42)"
   ]
  },
  {
   "cell_type": "code",
   "execution_count": 21,
   "id": "cf579f1f-952e-4747-85ee-228f061075f1",
   "metadata": {},
   "outputs": [],
   "source": [
    "#class balancing using smote\n",
    "from imblearn.over_sampling import SMOTE\n",
    "# Instantiate SMOTE\n",
    "smote = SMOTE()\n",
    "# Fit SMOTE to your data \n",
    "x_resampled, y_resampled = smote.fit_resample(x_train, y_train)"
   ]
  },
  {
   "cell_type": "code",
   "execution_count": 24,
   "id": "bcd619c6-723b-4f6f-849c-85c468514a5f",
   "metadata": {},
   "outputs": [
    {
     "name": "stdout",
     "output_type": "stream",
     "text": [
      "accuracy on training data {:.2f} 0.9999906020337199\n",
      "accuracy on testing data {:.2f} 0.8928555093079632\n"
     ]
    }
   ],
   "source": [
    "from sklearn.ensemble import RandomForestClassifier\n",
    "rf=RandomForestClassifier()\n",
    "rf.fit(x_resampled,y_resampled)\n",
    "print('accuracy on training data {:.2f}', rf.score(x_resampled,y_resampled))\n",
    "print('accuracy on testing data {:.2f}', rf.score(x_test,y_test))"
   ]
  },
  {
   "cell_type": "code",
   "execution_count": null,
   "id": "8621289c-823c-4884-834a-9bf9fa3693bc",
   "metadata": {},
   "outputs": [],
   "source": []
  },
  {
   "cell_type": "code",
   "execution_count": null,
   "id": "c4b5584c-786e-4ab8-beb4-18686dbc26dc",
   "metadata": {},
   "outputs": [],
   "source": []
  }
 ],
 "metadata": {
  "kernelspec": {
   "display_name": "Python 3 (ipykernel)",
   "language": "python",
   "name": "python3"
  },
  "language_info": {
   "codemirror_mode": {
    "name": "ipython",
    "version": 3
   },
   "file_extension": ".py",
   "mimetype": "text/x-python",
   "name": "python",
   "nbconvert_exporter": "python",
   "pygments_lexer": "ipython3",
   "version": "3.11.5"
  }
 },
 "nbformat": 4,
 "nbformat_minor": 5
}
